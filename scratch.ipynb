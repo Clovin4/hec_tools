{
 "cells": [
  {
   "cell_type": "code",
   "execution_count": 6,
   "metadata": {},
   "outputs": [],
   "source": [
    "from hec_tools import hec_tools"
   ]
  },
  {
   "cell_type": "code",
   "execution_count": 10,
   "metadata": {},
   "outputs": [
    {
     "name": "stdout",
     "output_type": "stream",
     "text": [
      "Select the run name by number:\n",
      "1: Run: Hypothetical_ATLAS14_100YR\n",
      "2: Run: March_2016\n",
      "3: Run: 0.5_Delta_2020\n",
      "4: Run: 0.5_Harvey_2017\n",
      "5: Run: 0.5_Hypo_ATLAS14_100YR\n",
      "6: Run: 0.5_Imelda_2019\n",
      "7: Run: 0.5_June_2018\n",
      "8: Run: 0.5_Laura_2020\n",
      "9: Run: 0.5_March_2016\n",
      "10: Run: 0.5_March_2018\n",
      "11: Run: 0.5_May_2020\n"
     ]
    }
   ],
   "source": [
    "hms = hec_tools.HMS(r\"C:\\Users\\christianl\\repos\\Sensitivity-Calibration\\08_Calibration\\TrialTester\\HMS_T\")"
   ]
  },
  {
   "cell_type": "code",
   "execution_count": 12,
   "metadata": {},
   "outputs": [
    {
     "data": {
      "text/plain": [
       "'WestForkCalcasieu'"
      ]
     },
     "execution_count": 12,
     "metadata": {},
     "output_type": "execute_result"
    }
   ],
   "source": [
    "hms.prjName"
   ]
  },
  {
   "cell_type": "code",
   "execution_count": 13,
   "metadata": {},
   "outputs": [
    {
     "data": {
      "text/plain": [
       "'Run: March_2016'"
      ]
     },
     "execution_count": 13,
     "metadata": {},
     "output_type": "execute_result"
    }
   ],
   "source": [
    "hms.run_name"
   ]
  },
  {
   "cell_type": "code",
   "execution_count": 14,
   "metadata": {},
   "outputs": [
    {
     "name": "stdout",
     "output_type": "stream",
     "text": [
      "hec_tools\\HMScompute.bat\n"
     ]
    }
   ],
   "source": [
    "print(hms.get_bat_loc())"
   ]
  },
  {
   "cell_type": "code",
   "execution_count": null,
   "metadata": {},
   "outputs": [],
   "source": []
  }
 ],
 "metadata": {
  "kernelspec": {
   "display_name": "venv",
   "language": "python",
   "name": "python3"
  },
  "language_info": {
   "codemirror_mode": {
    "name": "ipython",
    "version": 3
   },
   "file_extension": ".py",
   "mimetype": "text/x-python",
   "name": "python",
   "nbconvert_exporter": "python",
   "pygments_lexer": "ipython3",
   "version": "3.11.0"
  },
  "orig_nbformat": 4
 },
 "nbformat": 4,
 "nbformat_minor": 2
}
